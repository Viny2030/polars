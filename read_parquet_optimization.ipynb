{
 "cells": [
  {
   "cell_type": "markdown",
   "id": "2797d9c6-6707-4c4d-811f-04c105b73bc9",
   "metadata": {},
   "source": [
    "# 🚀Demo for read_parquet() optimization\n",
    "The data we'll be working with is the [Parking Violations Issued - Fiscal Year 2022](https://data.cityofnewyork.us/City-Government/Parking-Violations-Issued-Fiscal-Year-2022/7mxj-7a6y/about_data) dataset from NYC Open Data.\n",
    "\n",
    "👉 It's recommended that you check out the [article](https://fireducks-dev.github.io/posts/lazy_execution_offering_part1/) before trying the notebook for better understanding of the context."
   ]
  },
  {
   "cell_type": "code",
   "execution_count": 1,
   "id": "a6248b67-90ce-4fb9-bb1b-9a04bf87809e",
   "metadata": {},
   "outputs": [
    {
     "name": "stdout",
     "output_type": "stream",
     "text": [
      "Requirement already satisfied: fireducks in /home/mp98a/sourav/fireducks_pypi/lib/python3.10/site-packages (1.1.2)\n",
      "Requirement already satisfied: firefw==1.1.2 in /home/mp98a/sourav/fireducks_pypi/lib/python3.10/site-packages (from fireducks) (1.1.2)\n",
      "Requirement already satisfied: pandas<2.3.0,>=1.5.3 in /home/mp98a/sourav/fireducks_pypi/lib/python3.10/site-packages (from fireducks) (2.2.2)\n",
      "Requirement already satisfied: pyarrow<18.1,>=18.0 in /home/mp98a/sourav/fireducks_pypi/lib/python3.10/site-packages (from fireducks) (18.0.0)\n",
      "Requirement already satisfied: numpy>=1.22.4 in /home/mp98a/sourav/fireducks_pypi/lib/python3.10/site-packages (from pandas<2.3.0,>=1.5.3->fireducks) (1.24.4)\n",
      "Requirement already satisfied: pytz>=2020.1 in /home/mp98a/sourav/fireducks_pypi/lib/python3.10/site-packages (from pandas<2.3.0,>=1.5.3->fireducks) (2024.1)\n",
      "Requirement already satisfied: python-dateutil>=2.8.2 in /home/mp98a/sourav/fireducks_pypi/lib/python3.10/site-packages (from pandas<2.3.0,>=1.5.3->fireducks) (2.9.0.post0)\n",
      "Requirement already satisfied: tzdata>=2022.7 in /home/mp98a/sourav/fireducks_pypi/lib/python3.10/site-packages (from pandas<2.3.0,>=1.5.3->fireducks) (2024.1)\n",
      "Requirement already satisfied: six>=1.5 in /home/mp98a/sourav/fireducks_pypi/lib/python3.10/site-packages (from python-dateutil>=2.8.2->pandas<2.3.0,>=1.5.3->fireducks) (1.16.0)\n"
     ]
    }
   ],
   "source": [
    "!pip install -U fireducks"
   ]
  },
  {
   "cell_type": "code",
   "execution_count": 2,
   "id": "151f285f-27da-41b2-90eb-fea9517731b5",
   "metadata": {},
   "outputs": [],
   "source": [
    "# set environment variable to produce before and after IR\n",
    "import os\n",
    "os.environ[\"FIRE_LOG_LEVEL\"] = \"3\""
   ]
  },
  {
   "cell_type": "code",
   "execution_count": 3,
   "id": "1d1fbd46-1cd7-44c3-b3f9-63dcdfb85281",
   "metadata": {},
   "outputs": [],
   "source": [
    "import pandas as pd\n",
    "import fireducks.pandas as fd\n",
    "\n",
    "# to show exact FireDucks version when printing fd.__version__\n",
    "from fireducks.core import set_fireducks_option\n",
    "set_fireducks_option(\"fireducks-version\", True)"
   ]
  },
  {
   "cell_type": "markdown",
   "id": "7b8b1716-8f66-4869-bd1d-c4ad5d0bcce1",
   "metadata": {},
   "source": [
    "## ✅ Let's check the evaluation environment"
   ]
  },
  {
   "cell_type": "code",
   "execution_count": 4,
   "id": "fb2f3537-dc3c-47c2-9873-bd95f5feff22",
   "metadata": {},
   "outputs": [
    {
     "name": "stdout",
     "output_type": "stream",
     "text": [
      "============================== Evaluation Environment Information ==============================\n",
      "platform: Linux\n",
      "architecture: x86_64\n",
      "processor: x86_64\n",
      "cpu: 128\n",
      "pandas version: 2.2.2\n",
      "FireDucks version: 1.1.2\n"
     ]
    }
   ],
   "source": [
    "import platform, psutil\n",
    "print(\"=\"*30, \"Evaluation Environment Information\", \"=\"*30)\n",
    "print(f'platform: {platform.system()}')\n",
    "print(f'architecture: {platform.machine()}')\n",
    "print(f'processor: {platform.processor()}')\n",
    "print(f'cpu: {psutil.cpu_count()}')\n",
    "print(f'pandas version: {pd.__version__}')\n",
    "print(f'FireDucks version: {fd.__version__}')"
   ]
  },
  {
   "cell_type": "markdown",
   "id": "9f67f03d-9277-4513-95ec-6a20da26718d",
   "metadata": {},
   "source": [
    "## 🛠️ Let's experiment with a real dataset"
   ]
  },
  {
   "cell_type": "code",
   "execution_count": 5,
   "id": "31a28adf-def1-4b33-a09e-6d50a1a228c2",
   "metadata": {},
   "outputs": [
    {
     "name": "stdout",
     "output_type": "stream",
     "text": [
      "--2024-12-05 19:56:27--  https://data.rapids.ai/datasets/nyc_parking/nyc_parking_violations_2022.parquet\n",
      "proxygate1.nic.nec.co.jp (proxygate1.nic.nec.co.jp) をDNSに問いあわせています... 10.51.8.102, 10.51.8.101\n",
      "proxygate1.nic.nec.co.jp (proxygate1.nic.nec.co.jp)|10.51.8.102|:8080 に接続しています... 接続しました。\n",
      "Proxy による接続要求を送信しました、応答を待っています... 200 OK\n",
      "長さ: 474211285 (452M) [binary/octet-stream]\n",
      "‘nyc_parking_violations_2022.parquet.25’ に保存中\n",
      "\n",
      "nyc_parking_violati 100%[===================>] 452.24M  30.9MB/s    in 15s     \n",
      "\n",
      "2024-12-05 19:56:45 (30.0 MB/s) - ‘nyc_parking_violations_2022.parquet.25’ へ保存完了 [474211285/474211285]\n",
      "\n"
     ]
    }
   ],
   "source": [
    "# Data can be downloaded from here:\n",
    "!wget https://data.rapids.ai/datasets/nyc_parking/nyc_parking_violations_2022.parquet"
   ]
  },
  {
   "cell_type": "markdown",
   "id": "97302050-3d95-4906-9e3c-9ed31212b2d8",
   "metadata": {},
   "source": [
    "### 📈 Let's plot top-10 vehicle body types that are most frequently involved in parking violations (using pandas)"
   ]
  },
  {
   "cell_type": "code",
   "execution_count": 6,
   "id": "c8981d95-5781-4bc8-b85c-6e7eaad25cbb",
   "metadata": {},
   "outputs": [
    {
     "name": "stdout",
     "output_type": "stream",
     "text": [
      "CPU times: user 16.1 s, sys: 17.5 s, total: 33.6 s\n",
      "Wall time: 10.5 s\n"
     ]
    },
    {
     "data": {
      "image/png": "[encoded data removed]",
      "text/plain": [
       "<Figure size 640x480 with 1 Axes>"
      ]
     },
     "metadata": {},
     "output_type": "display_data"
    }
   ],
   "source": [
    "%%time\n",
    "(\n",
    "    pd.read_parquet(\"nyc_parking_violations_2022.parquet\")\n",
    "      .groupby(\"Vehicle Body Type\")    \n",
    "      .agg(Count=(\"Summons Number\", \"count\"))\n",
    "      .sort_values(by=\"Count\", ascending=False)\n",
    "      .head(10)\n",
    "      .plot(kind=\"bar\")\n",
    ");"
   ]
  },
  {
   "cell_type": "markdown",
   "id": "12b8179f-0d26-49aa-8f93-ddae2abe3d83",
   "metadata": {},
   "source": [
    "### 📈 Let's plot top-10 vehicle body types that are most frequently involved in parking violations (using FireDucks)"
   ]
  },
  {
   "cell_type": "code",
   "execution_count": 7,
   "id": "4ed7e0f2-b2f0-44c5-8153-3eeedd9d9345",
   "metadata": {},
   "outputs": [
    {
     "name": "stderr",
     "output_type": "stream",
     "text": [
      "2024-12-05 19:56:56.339672: 1004552 fireducks/lib/fireducks_core.cc:64] Input IR:\n",
      "func @main() {\n",
      "  %t0 = read_parquet('nyc_parking_violations_2022.parquet', [])\n",
      "  %t1 = groupby_agg(%t0, ['Vehicle Body Type'], ['count'], ['Summons Number'], ['Count'])\n",
      "  %t2 = sort_values(%t1, ['Count'], [0])\n",
      "  %t3 = slice(%t2, 0, 10, 1)\n",
      "  %v4, %v5 = to_pandas.frame.metadata(%t3)\n",
      "  return(%t3, %v4, %v5)\n",
      "}\n",
      "2024-12-05 19:56:56.340383: 1004552 fireducks/lib/fireducks_core.cc:73] Optimized IR:\n",
      "func @main() {\n",
      "  %t0 = read_parquet('nyc_parking_violations_2022.parquet', ['Vehicle Body Type', 'Summons Number'])\n",
      "  %t1 = groupby_agg(%t0, ['Vehicle Body Type'], ['count'], ['Summons Number'], ['Count'])\n",
      "  %t2 = sort_values(%t1, ['Count'], [0])\n",
      "  %t3 = slice(%t2, 0, 10, 1)\n",
      "  %v4, %v5 = to_pandas.frame.metadata(%t3)\n",
      "  return(%t3, %v4, %v5)\n",
      "}\n"
     ]
    },
    {
     "name": "stdout",
     "output_type": "stream",
     "text": [
      "CPU times: user 983 ms, sys: 127 ms, total: 1.11 s\n",
      "Wall time: 199 ms\n"
     ]
    },
    {
     "data": {
      "image/png": "[encoded data removed]",
      "text/plain": [
       "<Figure size 640x480 with 1 Axes>"
      ]
     },
     "metadata": {},
     "output_type": "display_data"
    }
   ],
   "source": [
    "%%time\n",
    "(\n",
    "    fd.read_parquet(\"nyc_parking_violations_2022.parquet\")\n",
    "      .groupby(\"Vehicle Body Type\")\n",
    "      .agg(Count=(\"Summons Number\", \"count\"))\n",
    "      .sort_values(by=\"Count\", ascending=False)\n",
    "      .head(10)\n",
    "      .plot(kind=\"bar\")\n",
    ");"
   ]
  },
  {
   "cell_type": "markdown",
   "id": "3e571474-94d2-4f14-bd25-591089a36223",
   "metadata": {},
   "source": [
    "## 🚀🚀 Speed-up\n",
    "\n",
    "Execution time reduced from ~10s to ~220ms (45x) when running the same program using FireDucks.\n",
    "It shows how efficiently the FireDucks JIT compiler optimized the sample query by reducing the data loading overhead and parallelizing the workload without affecting the final result"
   ]
  },
  {
   "cell_type": "markdown",
   "id": "d2ded745-0cf4-4ebc-b011-11b992a29f92",
   "metadata": {},
   "source": [
    "## 📜 Let's now work with a sample data to understand some Do's and Dont's when using notebook"
   ]
  },
  {
   "cell_type": "code",
   "execution_count": 8,
   "id": "f6204205-5af4-4609-98ea-37631e5bc8cb",
   "metadata": {},
   "outputs": [],
   "source": [
    "df = pd.DataFrame(\n",
    "    {\n",
    "        \"a\": [1, 2, 3, 4, 5, 6, 7, 8],\n",
    "        \"b\": [0.1, 0.2, 0.3, 0.4, 0.5, 0.6, 0.7, 0.8],\n",
    "        \"c\": [1, 4, 9, 16, 25, 36, 49, 64],\n",
    "        \"x\": [0, 1, 1, 0, 1, 1, 0, 1],\n",
    "        \"y\": [\"t1\", \"t2\", \"t3\", \"t1\", \"t2\", \"t1\", \"t2\", \"t3\"],\n",
    "        \"z\": [10, 20, 30, 40, 50, 60, 70, 80],\n",
    "    }\n",
    ")\n",
    "df.to_parquet(\"sample_data.parquet\", index=False)"
   ]
  },
  {
   "cell_type": "markdown",
   "id": "3cffad8e-623a-49d8-85fd-33964032ff7e",
   "metadata": {},
   "source": [
    "### ✔️ **Use method-chaining to get maximum benefit of FireDucks JIT optimization**\n",
    "\n",
    "When writting a query in a chained expression, FireDucks compiler can optimize it efficiently, since all the intermediate results while processing the chain are guaranteed to have no later usage and it can only return the final result computed through the optimized data flow."
   ]
  },
  {
   "cell_type": "code",
   "execution_count": 9,
   "id": "80e47468-fc5a-4d07-95b7-247babe91308",
   "metadata": {},
   "outputs": [
    {
     "name": "stdout",
     "output_type": "stream",
     "text": [
      "2024-12-05 19:56:56.654127: 1004552 fireducks/passes/fireducks_opt_mv_projection.cc:1011] Optimize Projection (fireducks.filter): loc(\"-\":17:18)\n"
     ]
    },
    {
     "name": "stderr",
     "output_type": "stream",
     "text": [
      "2024-12-05 19:56:56.653597: 1004552 fireducks/lib/fireducks_core.cc:64] Input IR:\n",
      "func @main() {\n",
      "  %t0 = read_parquet('sample_data.parquet', [])\n",
      "  %t1 = project(%t0, 'x')\n",
      "  %t2 = eq.vector.scalar(%t1, 1)\n",
      "  %t3 = filter(%t0, %t2)\n",
      "  %t4 = project(%t3, 'c')\n",
      "  %v5 = aggregate_column.scalar(%t4, 'sum')\n",
      "  return(%t4, %v5)\n",
      "}\n",
      "2024-12-05 19:56:56.654127: 1004552 fireducks/passes/fireducks_opt_mv_projection.cc:1011] Optimize Projection (fireducks.filter): loc(\"-\":17:18)\n",
      "2024-12-05 19:56:56.654330: 1004552 fireducks/lib/fireducks_core.cc:73] Optimized IR:\n",
      "func @main() {\n",
      "  %t0 = read_parquet('sample_data.parquet', ['x', 'c'])\n",
      "  %t1 = project(%t0, 'x')\n",
      "  %t2 = eq.vector.scalar(%t1, 1)\n",
      "  %t3 = project(%t0, ['c'])\n",
      "  %t4 = filter(%t3, %t2)\n",
      "  %t5 = project(%t4, 'c')\n",
      "  %v6 = aggregate_column.scalar(%t5, 'sum')\n",
      "  return(%t5, %v6)\n",
      "}\n"
     ]
    },
    {
     "data": {
      "text/plain": [
       "138"
      ]
     },
     "execution_count": 9,
     "metadata": {},
     "output_type": "execute_result"
    }
   ],
   "source": [
    "fd.read_parquet(\"sample_data.parquet\").pipe(lambda df: df[df[\"x\"] == 1])[\"c\"].sum()"
   ]
  },
  {
   "cell_type": "markdown",
   "id": "459ff085-ea2e-4451-b412-a3c012cc2199",
   "metadata": {},
   "source": [
    "### ❌ **Save intermediate results in temporary variables**\n",
    "\n",
    "When saving intermediate results in temporary variables of present cell, the compiler will assume that they might have some later usage in some another cell execution. Hence, it will keep all of them alive and the optimization will be ineffective.\n",
    "\n",
    "※ It will not be applicable for a python script though, since the compiler can inspect all the later usage of \"df\" and \"fdf\" in that case."
   ]
  },
  {
   "cell_type": "code",
   "execution_count": 10,
   "id": "52d070a1-e3ee-42c2-a324-5930960fc282",
   "metadata": {},
   "outputs": [
    {
     "name": "stderr",
     "output_type": "stream",
     "text": [
      "2024-12-05 19:56:56.664294: 1004552 fireducks/lib/fireducks_core.cc:64] Input IR:\n",
      "func @main() {\n",
      "  %t0 = read_parquet('sample_data.parquet', [])\n",
      "  %t1 = project(%t0, 'x')\n",
      "  %t2 = eq.vector.scalar(%t1, 1)\n",
      "  %t3 = filter(%t0, %t2)\n",
      "  %t4 = project(%t3, 'c')\n",
      "  %v5 = aggregate_column.scalar(%t4, 'sum')\n",
      "  return(%t4, %v5, %t0, %t3)\n",
      "}\n",
      "2024-12-05 19:56:56.664800: 1004552 fireducks/lib/fireducks_core.cc:73] Optimized IR:\n",
      "func @main() {\n",
      "  %t0 = read_parquet('sample_data.parquet', [])\n",
      "  %t1 = project(%t0, 'x')\n",
      "  %t2 = eq.vector.scalar(%t1, 1)\n",
      "  %t3 = filter(%t0, %t2)\n",
      "  %t4 = project(%t3, 'c')\n",
      "  %v5 = aggregate_column.scalar(%t4, 'sum')\n",
      "  return(%t4, %v5, %t0, %t3)\n",
      "}\n"
     ]
    },
    {
     "data": {
      "text/plain": [
       "138"
      ]
     },
     "execution_count": 10,
     "metadata": {},
     "output_type": "execute_result"
    }
   ],
   "source": [
    "df = fd.read_parquet(\"sample_data.parquet\")\n",
    "fdf = df[df[\"x\"] == 1]\n",
    "fdf[\"c\"].sum()"
   ]
  }
 ],
 "metadata": {
  "kernelspec": {
   "display_name": "Python 3 (ipykernel)",
   "language": "python",
   "name": "python3"
  },
  "language_info": {
   "codemirror_mode": {
    "name": "ipython",
    "version": 3
   },
   "file_extension": ".py",
   "mimetype": "text/x-python",
   "name": "python",
   "nbconvert_exporter": "python",
   "pygments_lexer": "ipython3",
   "version": "3.10.12"
  }
 },
 "nbformat": 4,
 "nbformat_minor": 5
}
